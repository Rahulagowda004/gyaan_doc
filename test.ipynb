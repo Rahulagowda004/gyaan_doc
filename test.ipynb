{
 "cells": [
  {
   "cell_type": "code",
   "execution_count": 2,
   "id": "52bfaa2b",
   "metadata": {},
   "outputs": [],
   "source": [
    "import os"
   ]
  },
  {
   "cell_type": "code",
   "execution_count": 4,
   "id": "163eb14b",
   "metadata": {},
   "outputs": [],
   "source": [
    "def available_pdfs() -> list:\n",
    "    \"\"\"\n",
    "    Returns a list of all available PDF files in the current directory.\n",
    "    \"\"\"\n",
    "    pdf_files = [f for f in os.listdir('R:/gyaan_doc/pdfs') if f.endswith('.pdf')]\n",
    "    return pdf_files"
   ]
  },
  {
   "cell_type": "code",
   "execution_count": 6,
   "id": "622c4c1e",
   "metadata": {},
   "outputs": [
    {
     "data": {
      "text/plain": [
       "['1706.03762v7.pdf',\n",
       " 'AI Engineering.pdf',\n",
       " 'Discovering_faster_matrix_multiplication_algorithm.pdf']"
      ]
     },
     "execution_count": 6,
     "metadata": {},
     "output_type": "execute_result"
    }
   ],
   "source": [
    "available_pdfs()"
   ]
  },
  {
   "cell_type": "code",
   "execution_count": null,
   "id": "38bf8c6a",
   "metadata": {},
   "outputs": [],
   "source": []
  }
 ],
 "metadata": {
  "kernelspec": {
   "display_name": "gyaan-doc (3.13.3)",
   "language": "python",
   "name": "python3"
  },
  "language_info": {
   "codemirror_mode": {
    "name": "ipython",
    "version": 3
   },
   "file_extension": ".py",
   "mimetype": "text/x-python",
   "name": "python",
   "nbconvert_exporter": "python",
   "pygments_lexer": "ipython3",
   "version": "3.13.3"
  }
 },
 "nbformat": 4,
 "nbformat_minor": 5
}
