{
 "cells": [
  {
   "cell_type": "code",
   "execution_count": 4,
   "id": "38bf8c6a",
   "metadata": {},
   "outputs": [],
   "source": [
    "from langchain_google_genai import ChatGoogleGenerativeAI\n",
    "from dotenv import load_dotenv\n",
    "from langchain_groq import ChatGroq\n",
    "from langchain_core.prompts import PromptTemplate\n",
    "from langchain_core.output_parsers import StrOutputParser"
   ]
  },
  {
   "cell_type": "code",
   "execution_count": 5,
   "id": "f839062f",
   "metadata": {},
   "outputs": [
    {
     "data": {
      "text/plain": [
       "True"
      ]
     },
     "execution_count": 5,
     "metadata": {},
     "output_type": "execute_result"
    }
   ],
   "source": [
    "load_dotenv()"
   ]
  },
  {
   "cell_type": "code",
   "execution_count": 7,
   "id": "7b4ab334",
   "metadata": {},
   "outputs": [],
   "source": [
    "llm = ChatGroq(model = \"llama-3.1-8b-instant\",temperature=0)"
   ]
  },
  {
   "cell_type": "code",
   "execution_count": 9,
   "id": "8f6c8174",
   "metadata": {},
   "outputs": [],
   "source": [
    "from pydantic import BaseModel, Field\n",
    "from typing import Literal\n",
    "\n",
    "class Parser(BaseModel):\n",
    "    \"\"\"LLM will be allowed to output only 'summarization' or 'rag' based on the user query.\"\"\"\n",
    "    query: Literal[\"summarization\", \"rag\"]"
   ]
  },
  {
   "cell_type": "code",
   "execution_count": 10,
   "id": "cc2c260b",
   "metadata": {},
   "outputs": [],
   "source": [
    "structured_llm = llm.with_structured_output(Parser)"
   ]
  },
  {
   "cell_type": "code",
   "execution_count": 11,
   "id": "ce54166f",
   "metadata": {},
   "outputs": [],
   "source": [
    "prompt = PromptTemplate(template = \"\"\"\n",
    "        You are a decision-making agent. Choose one of the following processes based on the user query:\n",
    "\n",
    "        <summarization> — Select this only if the user requests a summary of the entire PDF.\n",
    "\n",
    "        <rag> — Select this for any other type of query, including questions about specific sections, topic, paragraph or content from the PDF.\n",
    "\n",
    "        Respond with only <summarization> or <rag> based on the input:\n",
    "\n",
    "        Input: {input}\n",
    "        \"\"\",\n",
    "        input_variables = [\"input\"]\n",
    "    )"
   ]
  },
  {
   "cell_type": "code",
   "execution_count": 12,
   "id": "89a95bfa",
   "metadata": {},
   "outputs": [],
   "source": [
    "chain = prompt | structured_llm"
   ]
  },
  {
   "cell_type": "code",
   "execution_count": 13,
   "id": "1af94b14",
   "metadata": {},
   "outputs": [
    {
     "data": {
      "text/plain": [
       "'summarization'"
      ]
     },
     "execution_count": 13,
     "metadata": {},
     "output_type": "execute_result"
    }
   ],
   "source": [
    "response = chain.invoke({'input' : \"what is summary of the topic machine learning in the pdf\"})\n",
    "response.query"
   ]
  },
  {
   "cell_type": "code",
   "execution_count": 14,
   "id": "02c1cad4",
   "metadata": {},
   "outputs": [
    {
     "data": {
      "text/plain": [
       "Parser(query='summarization')"
      ]
     },
     "execution_count": 14,
     "metadata": {},
     "output_type": "execute_result"
    }
   ],
   "source": [
    "response"
   ]
  },
  {
   "cell_type": "code",
   "execution_count": null,
   "id": "1e284c42",
   "metadata": {},
   "outputs": [],
   "source": []
  }
 ],
 "metadata": {
  "kernelspec": {
   "display_name": "gyaan-doc (3.13.3)",
   "language": "python",
   "name": "python3"
  },
  "language_info": {
   "codemirror_mode": {
    "name": "ipython",
    "version": 3
   },
   "file_extension": ".py",
   "mimetype": "text/x-python",
   "name": "python",
   "nbconvert_exporter": "python",
   "pygments_lexer": "ipython3",
   "version": "3.13.3"
  }
 },
 "nbformat": 4,
 "nbformat_minor": 5
}
