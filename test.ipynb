{
 "cells": [
  {
   "cell_type": "code",
   "execution_count": 8,
   "id": "38bf8c6a",
   "metadata": {},
   "outputs": [],
   "source": [
    "from dotenv import load_dotenv\n",
    "from langchain_groq import ChatGroq\n",
    "from langchain_core.prompts import PromptTemplate\n",
    "from langchain_core.output_parsers import StrOutputParser\n",
    "from utils import available_pdfs"
   ]
  },
  {
   "cell_type": "code",
   "execution_count": 9,
   "id": "f839062f",
   "metadata": {},
   "outputs": [
    {
     "data": {
      "text/plain": [
       "True"
      ]
     },
     "execution_count": 9,
     "metadata": {},
     "output_type": "execute_result"
    }
   ],
   "source": [
    "load_dotenv()"
   ]
  },
  {
   "cell_type": "code",
   "execution_count": 10,
   "id": "7b4ab334",
   "metadata": {},
   "outputs": [],
   "source": [
    "llm = ChatGroq(model = \"llama-3.3-70b-versatile\",max_tokens=16000)"
   ]
  },
  {
   "cell_type": "code",
   "execution_count": 11,
   "id": "8f6c8174",
   "metadata": {},
   "outputs": [],
   "source": [
    "from pydantic import BaseModel, Field\n",
    "from typing import Literal\n",
    "\n",
    "class Parser(BaseModel):\n",
    "    \"\"\"LLM will be allowed to output only 'summarization' or 'rag' based on the user query.\"\"\"\n",
    "    query: Literal[\"summarization\", \"rag\"]\n",
    "    pdfs: list[str] = Field(...,description=\"pdfs mentioned in the user query, if any\")"
   ]
  },
  {
   "cell_type": "code",
   "execution_count": 12,
   "id": "cc2c260b",
   "metadata": {},
   "outputs": [],
   "source": [
    "structured_llm = llm.with_structured_output(Parser)"
   ]
  },
  {
   "cell_type": "code",
   "execution_count": 38,
   "id": "ce54166f",
   "metadata": {},
   "outputs": [],
   "source": [
    "prompt = PromptTemplate(\n",
    "    template=\"\"\"\n",
    "You are a decision-making agent. Based on the user's query, you must select:\n",
    "\n",
    "1. <summarization> — Use this **only if** the user asks for a summary of the **entire PDF**.\n",
    "2. <rag> — Use this for **any other type of query**, such as questions about specific sections, topics, paragraphs, or details from the PDF.\n",
    "3. <pdfs> — Choose the **relevant PDF filenames** from the provided list that best match the user query. If none are relevant, return an **empty list**.\n",
    "\n",
    "Your response must include:\n",
    "- One tag: `<summarization>` or `<rag>`\n",
    "- A list of relevant PDFs in the `<pdfs>` tag\n",
    "\n",
    "Format:\n",
    "<decision>\n",
    "<pdfs>[list of relevant PDFs]</pdfs>\n",
    "\n",
    "User Query: {input}\n",
    "\n",
    "Available PDFs: {pdfs}\n",
    "\"\"\",\n",
    "    input_variables=[\"input\", \"pdfs\"],\n",
    ")"
   ]
  },
  {
   "cell_type": "code",
   "execution_count": 39,
   "id": "89a95bfa",
   "metadata": {},
   "outputs": [],
   "source": [
    "chain = prompt | structured_llm"
   ]
  },
  {
   "cell_type": "code",
   "execution_count": null,
   "id": "1af94b14",
   "metadata": {},
   "outputs": [
    {
     "data": {
      "text/plain": [
       "'rag'"
      ]
     },
     "execution_count": 40,
     "metadata": {},
     "output_type": "execute_result"
    }
   ],
   "source": [
    "pdfs = available_pdfs()\n",
    "response = chain.invoke({'input' : \"what is summary of the topic machine learning in the ai engineering pdf\", 'pdfs': pdfs})"
   ]
  },
  {
   "cell_type": "code",
   "execution_count": 41,
   "id": "02c1cad4",
   "metadata": {},
   "outputs": [
    {
     "data": {
      "text/plain": [
       "Parser(query='rag', pdfs=['AI Engineering.pdf'])"
      ]
     },
     "execution_count": 41,
     "metadata": {},
     "output_type": "execute_result"
    }
   ],
   "source": [
    "response"
   ]
  },
  {
   "cell_type": "code",
   "execution_count": 43,
   "id": "1e284c42",
   "metadata": {},
   "outputs": [
    {
     "name": "stdout",
     "output_type": "stream",
     "text": [
      "['AI Engineering.pdf']\n"
     ]
    }
   ],
   "source": [
    "print(response.pdfs)"
   ]
  },
  {
   "cell_type": "code",
   "execution_count": null,
   "id": "4f5be867",
   "metadata": {},
   "outputs": [],
   "source": []
  }
 ],
 "metadata": {
  "kernelspec": {
   "display_name": "gyaan-doc (3.13.3)",
   "language": "python",
   "name": "python3"
  },
  "language_info": {
   "codemirror_mode": {
    "name": "ipython",
    "version": 3
   },
   "file_extension": ".py",
   "mimetype": "text/x-python",
   "name": "python",
   "nbconvert_exporter": "python",
   "pygments_lexer": "ipython3",
   "version": "3.13.3"
  }
 },
 "nbformat": 4,
 "nbformat_minor": 5
}
