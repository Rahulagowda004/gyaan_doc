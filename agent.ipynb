{
 "cells": [
  {
   "cell_type": "code",
   "execution_count": 1,
   "id": "955b6e5a",
   "metadata": {},
   "outputs": [
    {
     "data": {
      "text/plain": [
       "True"
      ]
     },
     "execution_count": 1,
     "metadata": {},
     "output_type": "execute_result"
    }
   ],
   "source": [
    "from langchain_google_genai import ChatGoogleGenerativeAI\n",
    "from langgraph.graph import StateGraph, START, END\n",
    "from langgraph.graph.message import add_messages\n",
    "from langchain_core.messages import SystemMessage,HumanMessage,AIMessage,ToolMessage, BaseMessage\n",
    "from utils import available_pdfs\n",
    "from langchain_core.tools import BaseTool, tool\n",
    "from langgraph.prebuilt import ToolNode\n",
    "from typing import Annotated, Sequence, TypedDict\n",
    "from dotenv import load_dotenv\n",
    "\n",
    "load_dotenv()"
   ]
  },
  {
   "cell_type": "code",
   "execution_count": 2,
   "id": "54639c58",
   "metadata": {},
   "outputs": [],
   "source": [
    "class State(TypedDict):\n",
    "    messages: Annotated[Sequence[BaseMessage],add_messages]"
   ]
  },
  {
   "cell_type": "code",
   "execution_count": null,
   "id": "bcfef95b",
   "metadata": {},
   "outputs": [],
   "source": [
    "@tool\n",
    "def select_pdf(pdfs_in_query: list) -> list:\n",
    "    \"\"\"Select PDFs from a list based on user query.\n",
    "    This tool helps find and select PDF documents that match the user's query \n",
    "    based on title, content description, or other metadata.\n",
    "\n",
    "    Args:\n",
    "        pdfs_in_query (list): List of PDF names mentioned in the user query\n",
    "\n",
    "    Returns:\n",
    "        list: List of selected PDF documents matching the query, with their metadata.\n",
    "            Returns empty list if no matches found.\n",
    "    \"\"\"\n",
    "    available_pdfs = available_pdfs()\n",
    "    print(f\"Available PDFs: {available_pdfs}\")\n",
    "    \n",
    "    if not pdfs_in_query:\n",
    "        return available_pdfs\n",
    "    \n",
    "    selected_pdfs = []\n",
    "\n",
    "    for pdf in available_pdfs:\n",
    "        if pdf['title'] in pdfs_in_query:\n",
    "            selected_pdfs.append(pdf)\n",
    "\n",
    "    return selected_pdfs"
   ]
  },
  {
   "cell_type": "code",
   "execution_count": null,
   "id": "a1d2e198",
   "metadata": {},
   "outputs": [],
   "source": []
  }
 ],
 "metadata": {
  "kernelspec": {
   "display_name": "gyaan-doc (3.13.3)",
   "language": "python",
   "name": "python3"
  },
  "language_info": {
   "codemirror_mode": {
    "name": "ipython",
    "version": 3
   },
   "file_extension": ".py",
   "mimetype": "text/x-python",
   "name": "python",
   "nbconvert_exporter": "python",
   "pygments_lexer": "ipython3",
   "version": "3.13.3"
  }
 },
 "nbformat": 4,
 "nbformat_minor": 5
}
