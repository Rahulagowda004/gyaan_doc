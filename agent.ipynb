{
 "cells": [
  {
   "cell_type": "code",
   "execution_count": 4,
   "id": "955b6e5a",
   "metadata": {},
   "outputs": [
    {
     "data": {
      "text/plain": [
       "True"
      ]
     },
     "execution_count": 4,
     "metadata": {},
     "output_type": "execute_result"
    }
   ],
   "source": [
    "from langchain_google_genai import ChatGoogleGenerativeAI\n",
    "from langgraph.graph import StateGraph, START, END\n",
    "from langgraph.graph.message import add_messages\n",
    "from langchain_core.prompts import PromptTemplate\n",
    "from langchain_core.messages import SystemMessage,HumanMessage,AIMessage,ToolMessage, BaseMessage\n",
    "from utils import available_pdfs\n",
    "from langchain_groq import ChatGroq\n",
    "from langgraph.checkpoint.memory import MemorySaver\n",
    "from langchain_core.tools import BaseTool, tool\n",
    "from langgraph.prebuilt import ToolNode\n",
    "from typing import Annotated, Sequence, TypedDict\n",
    "from dotenv import load_dotenv\n",
    "\n",
    "load_dotenv()"
   ]
  },
  {
   "cell_type": "code",
   "execution_count": 5,
   "id": "54639c58",
   "metadata": {},
   "outputs": [],
   "source": [
    "class State(TypedDict):\n",
    "    messages: Annotated[Sequence[BaseMessage],add_messages]\n",
    "    pdf_query: list[str]"
   ]
  },
  {
   "cell_type": "code",
   "execution_count": 27,
   "id": "bcfef95b",
   "metadata": {},
   "outputs": [],
   "source": [
    "from utils import retriever\n",
    "\n",
    "@tool\n",
    "def retriever_tool(query: str) -> str:\n",
    "    \"\"\"\n",
    "    This tool searches and returns the information from the Stock Market Performance 2024 document.\n",
    "    \"\"\"\n",
    "    available_pdfs = available_pdfs()\n",
    "    \n",
    "    retriever = retriever(pdfs = available_pdfs)\n",
    "\n",
    "    docs = retriever.invoke(query)\n",
    "\n",
    "    if not docs:\n",
    "        return \"I found no relevant information in the document.\"\n",
    "    \n",
    "    results = []\n",
    "    for i, doc in enumerate(docs):\n",
    "        results.append(f\"Document {i+1}:\\n{doc.page_content}\")\n",
    "    \n",
    "    return \"\\n\\n\".join(results)"
   ]
  },
  {
   "cell_type": "code",
   "execution_count": 20,
   "id": "8ac90cc2",
   "metadata": {},
   "outputs": [],
   "source": [
    "# Update tools list\n",
    "tools = [retriever_tool]  # Use the properly decorated function\n",
    "\n",
    "# Fix tools_dict\n",
    "tools_dict = {tool.name: tool for tool in tools}"
   ]
  },
  {
   "cell_type": "code",
   "execution_count": 7,
   "id": "9e650277",
   "metadata": {},
   "outputs": [],
   "source": [
    "llm = ChatGroq(model = \"llama-3.3-70b-versatile\",max_tokens=16000)"
   ]
  },
  {
   "cell_type": "code",
   "execution_count": 47,
   "id": "ce8f7f02",
   "metadata": {},
   "outputs": [],
   "source": [
    "from pydantic import BaseModel, Field\n",
    "from typing import Literal\n",
    "\n",
    "class Parser(BaseModel):\n",
    "    \"\"\"LLM will be allowed to output only 'summarization' or 'rag' based on the user query.\"\"\"\n",
    "    query: Literal[\"summarization\", \"rag\"]\n",
    "    pdfs: list[str] = Field(...,description=\"pdfs mentioned in the user query, if any\")\n",
    "\n",
    "def orchestrator(state: State) -> State:\n",
    "    \"\"\"Router function to determine the next step in the state graph.\n",
    "    This function checks the current state and decides which tool or action to take next.\n",
    "\n",
    "    Args:\n",
    "        state (State): The current state of the graph.\n",
    "\n",
    "    Returns:\n",
    "        State: The updated state after processing the current step.\n",
    "    \"\"\"\n",
    "    \n",
    "    user_message = next((msg for msg in reversed(state[\"messages\"]) if isinstance(msg, HumanMessage)), None)\n",
    "    \n",
    "    prompt = PromptTemplate(\n",
    "    template=\"\"\"\n",
    "        You are a decision-making agent. Based on the user's query, you must select:\n",
    "\n",
    "        1. <summarization> — Use this **only if** the user asks for a summary of the **entire PDF**.\n",
    "        2. <rag> — Use this for **any other type of query**, such as questions about specific sections, topics, paragraphs, or details from the PDF.\n",
    "        3. <pdfs> — Choose the **relevant PDF filenames** from the provided list that best match the user query. If none are relevant, return an **empty list**.\n",
    "\n",
    "        Your response must include:\n",
    "        - One tag: `<summarization>` or `<rag>`\n",
    "        - A list of relevant PDFs in the `<pdfs>` tag\n",
    "\n",
    "        Format:\n",
    "        <decision>\n",
    "        <pdfs>[list of relevant PDFs]</pdfs>\n",
    "\n",
    "        User Query: {input}\n",
    "\n",
    "        Available PDFs: {pdfs}\n",
    "        \"\"\",\n",
    "            input_variables=[\"input\", \"pdfs\"],\n",
    "        )\n",
    "    \n",
    "    structured_llm = llm.with_structured_output(Parser)\n",
    "    \n",
    "    chain = prompt | structured_llm\n",
    "    \n",
    "    messages = state[\"messages\"]\n",
    "    \n",
    "    last_message = messages[-1] if messages else None\n",
    "    \n",
    "    pdfs = available_pdfs()\n",
    "    response = chain.invoke({\n",
    "        'input':last_message.content, \n",
    "        'pdfs': pdfs\n",
    "                             })\n",
    "    \n",
    "    print(f\"this is how the state looks like: {state[\"messages\"] + [AIMessage(content=f\"{response['messages'].content}\")]}\")\n",
    "    \n",
    "    return {\"messages\": state[\"messages\"] + [AIMessage(content=f\"{response['messages'].content}\")]}"
   ]
  },
  {
   "cell_type": "code",
   "execution_count": 48,
   "id": "3de1139d",
   "metadata": {},
   "outputs": [],
   "source": [
    "from pathlib import Path\n",
    "from langchain_community.document_loaders import PyPDFLoader\n",
    "from langchain.text_splitter import RecursiveCharacterTextSplitter\n",
    "from langchain.chains.summarize import load_summarize_chain\n",
    "\n",
    "def summarization(state: State) -> State:\n",
    "    \n",
    "    for pdf in state.get[\"pdfs\",[]]:\n",
    "        loader = PyPDFLoader(Path(pdf))\n",
    "        docs = loader.load_and_split()\n",
    "    \n",
    "    split_docs = RecursiveCharacterTextSplitter(chunk_size = 15000, chunk_overlap=500).split_documents(docs)\n",
    "    \n",
    "    chain = load_summarize_chain(\n",
    "        llm = llm,\n",
    "        chain_type = \"refine\",\n",
    "        verbose = False,\n",
    "    )\n",
    "    \n",
    "    response = chain.invoke({\"input_documents\":split_docs}, return_only_outputs=True)\n",
    "    \n",
    "    print(f\"this is how the state looks like: {state[\"messages\"] + [AIMessage(content=response['output_text'])]}\")\n",
    "    \n",
    "    return {\"messages\": state[\"messages\"] + [AIMessage(content=response['output_text'])]}"
   ]
  },
  {
   "cell_type": "code",
   "execution_count": 49,
   "id": "2a27eedf",
   "metadata": {},
   "outputs": [],
   "source": [
    "def call_llm(state: State) -> State:\n",
    "    \"\"\"Function to call the LLM with the current state.\"\"\"\n",
    "    messages = list(state['messages'])\n",
    "    system_prompt = \"\"\"\n",
    "        You are an intelligent AI assistant who answers questions about Stock Market Performance in 2024 based on the PDF document loaded into your knowledge base.\n",
    "        Use the retriever tool available to answer questions about the stock market performance data. You can make multiple calls if needed.\n",
    "        If you need to look up some information before asking a follow up question, you are allowed to do that!\n",
    "        Please always cite the specific parts of the documents you use in your answers.\n",
    "        \"\"\"\n",
    "    messages = [SystemMessage(content=system_prompt)] + messages\n",
    "    message = llm.invoke(messages)\n",
    "    return {'messages': [message]}"
   ]
  },
  {
   "cell_type": "code",
   "execution_count": 50,
   "id": "1adebbd0",
   "metadata": {},
   "outputs": [],
   "source": [
    "def rag(state: State) -> State:\n",
    "    \"\"\"Execute tool calls from the LLM's response.\"\"\"\n",
    "    tool_calls = state['messages'][-1].tool_calls\n",
    "    results = []\n",
    "    for t in tool_calls:\n",
    "        print(f\"Calling Tool: {t['name']} with query: {t['args'].get('query', 'No query provided')}\")\n",
    "        \n",
    "        if not t['name'] in tools_dict: # Checks if a valid tool is present\n",
    "            print(f\"\\nTool: {t['name']} does not exist.\")\n",
    "            result = \"Incorrect Tool Name, Please Retry and Select tool from List of Available tools.\"\n",
    "        \n",
    "        else:\n",
    "            result = tools_dict[t['name']].invoke(t['args'].get('query', ''))\n",
    "            print(f\"Result length: {len(str(result))}\")\n",
    "            \n",
    "        # Appends the Tool Message\n",
    "        results.append(ToolMessage(tool_call_id=t['id'], name=t['name'], content=str(result)))\n",
    "\n",
    "    print(\"Tools Execution Complete. Back to the model!\")\n",
    "    return {'messages': results}"
   ]
  },
  {
   "cell_type": "code",
   "execution_count": 51,
   "id": "a836ca7b",
   "metadata": {},
   "outputs": [],
   "source": [
    "def to_continue(state: State) -> State:\n",
    "    \"\"\"This function takes the output from router and decided what do no next.\"\"\"\n",
    "    messages = state[\"messages\"]\n",
    "    last_message = messages[-1]\n",
    "    \n",
    "    if isinstance(last_message, AIMessage):\n",
    "        if last_message.content == \"summarization\":\n",
    "            return \"summarization\"\n",
    "        elif last_message.content == \"rag\":\n",
    "            return \"rag\"\n",
    "        else:\n",
    "            raise ValueError(f\"Unexpected content in last message: {last_message.content}\")\n",
    "           \n",
    "def should_continue(state: State):\n",
    "    \"\"\"Check if the last message contains tool calls.\"\"\"\n",
    "    result = state['messages'][-1]\n",
    "    return hasattr(result, 'tool_calls') and len(result.tool_calls) > 0"
   ]
  },
  {
   "cell_type": "code",
   "execution_count": 52,
   "id": "24ac1c7f",
   "metadata": {},
   "outputs": [],
   "source": [
    "memory = MemorySaver()\n",
    "\n",
    "tool_node = ToolNode(tools = tools)\n",
    "\n",
    "graph = StateGraph(State)\n",
    "\n",
    "graph.add_node(\"router\",orchestrator)\n",
    "graph.add_node(\"llm\", call_llm)\n",
    "graph.add_node(\"retriever_agent\", rag)\n",
    "graph.add_node(\"summarization_agent\", summarization)\n",
    "graph.add_node(\"tool\", tool_node)\n",
    "\n",
    "\n",
    "graph.add_edge(START, \"router\")\n",
    "graph.add_conditional_edges(\n",
    "    \"router\",\n",
    "    to_continue,\n",
    "    {\n",
    "        \"summarization\": \"summarization_agent\",\n",
    "        \"rag\": \"llm\"\n",
    "    }\n",
    ")\n",
    "\n",
    "graph.add_conditional_edges(\n",
    "    \"llm\",\n",
    "    should_continue,\n",
    "    {\n",
    "        True: \"retriever_agent\", \n",
    "        False: END}\n",
    ")\n",
    "graph.add_edge(\"retriever_agent\", \"llm\")\n",
    "\n",
    "app = graph.compile(checkpointer=memory)"
   ]
  },
  {
   "cell_type": "markdown",
   "id": "c3cbc748",
   "metadata": {},
   "source": []
  },
  {
   "cell_type": "code",
   "execution_count": 53,
   "id": "22b2748a",
   "metadata": {},
   "outputs": [
    {
     "data": {
      "image/png": "[encoded data removed]",
      "text/plain": [
       "<IPython.core.display.Image object>"
      ]
     },
     "metadata": {},
     "output_type": "display_data"
    }
   ],
   "source": [
    "from IPython.display import Image, display\n",
    "display(Image(app.get_graph().draw_mermaid_png()))"
   ]
  },
  {
   "cell_type": "code",
   "execution_count": 55,
   "id": "ea93f47f",
   "metadata": {},
   "outputs": [
    {
     "name": "stdout",
     "output_type": "stream",
     "text": [
      "================================\u001b[1m Human Message \u001b[0m=================================\n",
      "\n",
      "what is summary of the topic machine learning in the ai engineering pdf\n"
     ]
    },
    {
     "ename": "TypeError",
     "evalue": "'Parser' object is not subscriptable",
     "output_type": "error",
     "traceback": [
      "\u001b[31m---------------------------------------------------------------------------\u001b[39m",
      "\u001b[31mTypeError\u001b[39m                                 Traceback (most recent call last)",
      "\u001b[36mCell\u001b[39m\u001b[36m \u001b[39m\u001b[32mIn[55]\u001b[39m\u001b[32m, line 11\u001b[39m\n\u001b[32m      4\u001b[39m user_input = \u001b[33m\"\u001b[39m\u001b[33mwhat is summary of the topic machine learning in the ai engineering pdf\u001b[39m\u001b[33m\"\u001b[39m\n\u001b[32m      6\u001b[39m events = app.stream(\n\u001b[32m      7\u001b[39m     {\u001b[33m\"\u001b[39m\u001b[33mmessages\u001b[39m\u001b[33m\"\u001b[39m: [{\u001b[33m\"\u001b[39m\u001b[33mrole\u001b[39m\u001b[33m\"\u001b[39m: \u001b[33m\"\u001b[39m\u001b[33muser\u001b[39m\u001b[33m\"\u001b[39m, \u001b[33m\"\u001b[39m\u001b[33mcontent\u001b[39m\u001b[33m\"\u001b[39m: user_input}]},\n\u001b[32m      8\u001b[39m     config,\n\u001b[32m      9\u001b[39m     stream_mode=\u001b[33m\"\u001b[39m\u001b[33mvalues\u001b[39m\u001b[33m\"\u001b[39m,\n\u001b[32m     10\u001b[39m )\n\u001b[32m---> \u001b[39m\u001b[32m11\u001b[39m \u001b[38;5;28;43;01mfor\u001b[39;49;00m\u001b[43m \u001b[49m\u001b[43mevent\u001b[49m\u001b[43m \u001b[49m\u001b[38;5;129;43;01min\u001b[39;49;00m\u001b[43m \u001b[49m\u001b[43mevents\u001b[49m\u001b[43m:\u001b[49m\n\u001b[32m     12\u001b[39m \u001b[43m    \u001b[49m\u001b[43mevent\u001b[49m\u001b[43m[\u001b[49m\u001b[33;43m\"\u001b[39;49m\u001b[33;43mmessages\u001b[39;49m\u001b[33;43m\"\u001b[39;49m\u001b[43m]\u001b[49m\u001b[43m[\u001b[49m\u001b[43m-\u001b[49m\u001b[32;43m1\u001b[39;49m\u001b[43m]\u001b[49m\u001b[43m.\u001b[49m\u001b[43mpretty_print\u001b[49m\u001b[43m(\u001b[49m\u001b[43m)\u001b[49m\n\u001b[32m     14\u001b[39m \u001b[38;5;66;03m# while True:\u001b[39;00m\n\u001b[32m     15\u001b[39m \u001b[38;5;66;03m#     try:\u001b[39;00m\n\u001b[32m     16\u001b[39m \u001b[38;5;66;03m#         user_input = input(\"User: \")\u001b[39;00m\n\u001b[32m   (...)\u001b[39m\u001b[32m     28\u001b[39m \u001b[38;5;66;03m#         print(f\"An error occurred: {e}\")\u001b[39;00m\n\u001b[32m     29\u001b[39m \u001b[38;5;66;03m#         break\u001b[39;00m\n",
      "\u001b[36mFile \u001b[39m\u001b[32mr:\\gyaan_doc\\.venv\\Lib\\site-packages\\langgraph\\pregel\\__init__.py:2527\u001b[39m, in \u001b[36mPregel.stream\u001b[39m\u001b[34m(self, input, config, stream_mode, output_keys, interrupt_before, interrupt_after, checkpoint_during, debug, subgraphs)\u001b[39m\n\u001b[32m   2525\u001b[39m         \u001b[38;5;28;01mfor\u001b[39;00m task \u001b[38;5;129;01min\u001b[39;00m loop.match_cached_writes():\n\u001b[32m   2526\u001b[39m             loop.output_writes(task.id, task.writes, cached=\u001b[38;5;28;01mTrue\u001b[39;00m)\n\u001b[32m-> \u001b[39m\u001b[32m2527\u001b[39m \u001b[43m        \u001b[49m\u001b[38;5;28;43;01mfor\u001b[39;49;00m\u001b[43m \u001b[49m\u001b[43m_\u001b[49m\u001b[43m \u001b[49m\u001b[38;5;129;43;01min\u001b[39;49;00m\u001b[43m \u001b[49m\u001b[43mrunner\u001b[49m\u001b[43m.\u001b[49m\u001b[43mtick\u001b[49m\u001b[43m(\u001b[49m\n\u001b[32m   2528\u001b[39m \u001b[43m            \u001b[49m\u001b[43m[\u001b[49m\u001b[43mt\u001b[49m\u001b[43m \u001b[49m\u001b[38;5;28;43;01mfor\u001b[39;49;00m\u001b[43m \u001b[49m\u001b[43mt\u001b[49m\u001b[43m \u001b[49m\u001b[38;5;129;43;01min\u001b[39;49;00m\u001b[43m \u001b[49m\u001b[43mloop\u001b[49m\u001b[43m.\u001b[49m\u001b[43mtasks\u001b[49m\u001b[43m.\u001b[49m\u001b[43mvalues\u001b[49m\u001b[43m(\u001b[49m\u001b[43m)\u001b[49m\u001b[43m \u001b[49m\u001b[38;5;28;43;01mif\u001b[39;49;00m\u001b[43m \u001b[49m\u001b[38;5;129;43;01mnot\u001b[39;49;00m\u001b[43m \u001b[49m\u001b[43mt\u001b[49m\u001b[43m.\u001b[49m\u001b[43mwrites\u001b[49m\u001b[43m]\u001b[49m\u001b[43m,\u001b[49m\n\u001b[32m   2529\u001b[39m \u001b[43m            \u001b[49m\u001b[43mtimeout\u001b[49m\u001b[43m=\u001b[49m\u001b[38;5;28;43mself\u001b[39;49m\u001b[43m.\u001b[49m\u001b[43mstep_timeout\u001b[49m\u001b[43m,\u001b[49m\n\u001b[32m   2530\u001b[39m \u001b[43m            \u001b[49m\u001b[43mget_waiter\u001b[49m\u001b[43m=\u001b[49m\u001b[43mget_waiter\u001b[49m\u001b[43m,\u001b[49m\n\u001b[32m   2531\u001b[39m \u001b[43m            \u001b[49m\u001b[43mschedule_task\u001b[49m\u001b[43m=\u001b[49m\u001b[43mloop\u001b[49m\u001b[43m.\u001b[49m\u001b[43maccept_push\u001b[49m\u001b[43m,\u001b[49m\n\u001b[32m   2532\u001b[39m \u001b[43m        \u001b[49m\u001b[43m)\u001b[49m\u001b[43m:\u001b[49m\n\u001b[32m   2533\u001b[39m \u001b[43m            \u001b[49m\u001b[38;5;66;43;03m# emit output\u001b[39;49;00m\n\u001b[32m   2534\u001b[39m \u001b[43m            \u001b[49m\u001b[38;5;28;43;01myield from\u001b[39;49;00m\u001b[43m \u001b[49m\u001b[43moutput\u001b[49m\u001b[43m(\u001b[49m\u001b[43m)\u001b[49m\n\u001b[32m   2535\u001b[39m \u001b[38;5;66;03m# emit output\u001b[39;00m\n",
      "\u001b[36mFile \u001b[39m\u001b[32mr:\\gyaan_doc\\.venv\\Lib\\site-packages\\langgraph\\pregel\\runner.py:157\u001b[39m, in \u001b[36mPregelRunner.tick\u001b[39m\u001b[34m(self, tasks, reraise, timeout, retry_policy, get_waiter, schedule_task)\u001b[39m\n\u001b[32m    155\u001b[39m t = tasks[\u001b[32m0\u001b[39m]\n\u001b[32m    156\u001b[39m \u001b[38;5;28;01mtry\u001b[39;00m:\n\u001b[32m--> \u001b[39m\u001b[32m157\u001b[39m     \u001b[43mrun_with_retry\u001b[49m\u001b[43m(\u001b[49m\n\u001b[32m    158\u001b[39m \u001b[43m        \u001b[49m\u001b[43mt\u001b[49m\u001b[43m,\u001b[49m\n\u001b[32m    159\u001b[39m \u001b[43m        \u001b[49m\u001b[43mretry_policy\u001b[49m\u001b[43m,\u001b[49m\n\u001b[32m    160\u001b[39m \u001b[43m        \u001b[49m\u001b[43mconfigurable\u001b[49m\u001b[43m=\u001b[49m\u001b[43m{\u001b[49m\n\u001b[32m    161\u001b[39m \u001b[43m            \u001b[49m\u001b[43mCONFIG_KEY_CALL\u001b[49m\u001b[43m:\u001b[49m\u001b[43m \u001b[49m\u001b[43mpartial\u001b[49m\u001b[43m(\u001b[49m\n\u001b[32m    162\u001b[39m \u001b[43m                \u001b[49m\u001b[43m_call\u001b[49m\u001b[43m,\u001b[49m\n\u001b[32m    163\u001b[39m \u001b[43m                \u001b[49m\u001b[43mweakref\u001b[49m\u001b[43m.\u001b[49m\u001b[43mref\u001b[49m\u001b[43m(\u001b[49m\u001b[43mt\u001b[49m\u001b[43m)\u001b[49m\u001b[43m,\u001b[49m\n\u001b[32m    164\u001b[39m \u001b[43m                \u001b[49m\u001b[43mretry\u001b[49m\u001b[43m=\u001b[49m\u001b[43mretry_policy\u001b[49m\u001b[43m,\u001b[49m\n\u001b[32m    165\u001b[39m \u001b[43m                \u001b[49m\u001b[43mfutures\u001b[49m\u001b[43m=\u001b[49m\u001b[43mweakref\u001b[49m\u001b[43m.\u001b[49m\u001b[43mref\u001b[49m\u001b[43m(\u001b[49m\u001b[43mfutures\u001b[49m\u001b[43m)\u001b[49m\u001b[43m,\u001b[49m\n\u001b[32m    166\u001b[39m \u001b[43m                \u001b[49m\u001b[43mschedule_task\u001b[49m\u001b[43m=\u001b[49m\u001b[43mschedule_task\u001b[49m\u001b[43m,\u001b[49m\n\u001b[32m    167\u001b[39m \u001b[43m                \u001b[49m\u001b[43msubmit\u001b[49m\u001b[43m=\u001b[49m\u001b[38;5;28;43mself\u001b[39;49m\u001b[43m.\u001b[49m\u001b[43msubmit\u001b[49m\u001b[43m,\u001b[49m\n\u001b[32m    168\u001b[39m \u001b[43m                \u001b[49m\u001b[43mreraise\u001b[49m\u001b[43m=\u001b[49m\u001b[43mreraise\u001b[49m\u001b[43m,\u001b[49m\n\u001b[32m    169\u001b[39m \u001b[43m            \u001b[49m\u001b[43m)\u001b[49m\u001b[43m,\u001b[49m\n\u001b[32m    170\u001b[39m \u001b[43m        \u001b[49m\u001b[43m}\u001b[49m\u001b[43m,\u001b[49m\n\u001b[32m    171\u001b[39m \u001b[43m    \u001b[49m\u001b[43m)\u001b[49m\n\u001b[32m    172\u001b[39m     \u001b[38;5;28mself\u001b[39m.commit(t, \u001b[38;5;28;01mNone\u001b[39;00m)\n\u001b[32m    173\u001b[39m \u001b[38;5;28;01mexcept\u001b[39;00m \u001b[38;5;167;01mException\u001b[39;00m \u001b[38;5;28;01mas\u001b[39;00m exc:\n",
      "\u001b[36mFile \u001b[39m\u001b[32mr:\\gyaan_doc\\.venv\\Lib\\site-packages\\langgraph\\pregel\\retry.py:40\u001b[39m, in \u001b[36mrun_with_retry\u001b[39m\u001b[34m(task, retry_policy, configurable)\u001b[39m\n\u001b[32m     38\u001b[39m     task.writes.clear()\n\u001b[32m     39\u001b[39m     \u001b[38;5;66;03m# run the task\u001b[39;00m\n\u001b[32m---> \u001b[39m\u001b[32m40\u001b[39m     \u001b[38;5;28;01mreturn\u001b[39;00m \u001b[43mtask\u001b[49m\u001b[43m.\u001b[49m\u001b[43mproc\u001b[49m\u001b[43m.\u001b[49m\u001b[43minvoke\u001b[49m\u001b[43m(\u001b[49m\u001b[43mtask\u001b[49m\u001b[43m.\u001b[49m\u001b[43minput\u001b[49m\u001b[43m,\u001b[49m\u001b[43m \u001b[49m\u001b[43mconfig\u001b[49m\u001b[43m)\u001b[49m\n\u001b[32m     41\u001b[39m \u001b[38;5;28;01mexcept\u001b[39;00m ParentCommand \u001b[38;5;28;01mas\u001b[39;00m exc:\n\u001b[32m     42\u001b[39m     ns: \u001b[38;5;28mstr\u001b[39m = config[CONF][CONFIG_KEY_CHECKPOINT_NS]\n",
      "\u001b[36mFile \u001b[39m\u001b[32mr:\\gyaan_doc\\.venv\\Lib\\site-packages\\langgraph\\utils\\runnable.py:623\u001b[39m, in \u001b[36mRunnableSeq.invoke\u001b[39m\u001b[34m(self, input, config, **kwargs)\u001b[39m\n\u001b[32m    621\u001b[39m     \u001b[38;5;66;03m# run in context\u001b[39;00m\n\u001b[32m    622\u001b[39m     \u001b[38;5;28;01mwith\u001b[39;00m set_config_context(config, run) \u001b[38;5;28;01mas\u001b[39;00m context:\n\u001b[32m--> \u001b[39m\u001b[32m623\u001b[39m         \u001b[38;5;28minput\u001b[39m = \u001b[43mcontext\u001b[49m\u001b[43m.\u001b[49m\u001b[43mrun\u001b[49m\u001b[43m(\u001b[49m\u001b[43mstep\u001b[49m\u001b[43m.\u001b[49m\u001b[43minvoke\u001b[49m\u001b[43m,\u001b[49m\u001b[43m \u001b[49m\u001b[38;5;28;43minput\u001b[39;49m\u001b[43m,\u001b[49m\u001b[43m \u001b[49m\u001b[43mconfig\u001b[49m\u001b[43m,\u001b[49m\u001b[43m \u001b[49m\u001b[43m*\u001b[49m\u001b[43m*\u001b[49m\u001b[43mkwargs\u001b[49m\u001b[43m)\u001b[49m\n\u001b[32m    624\u001b[39m \u001b[38;5;28;01melse\u001b[39;00m:\n\u001b[32m    625\u001b[39m     \u001b[38;5;28minput\u001b[39m = step.invoke(\u001b[38;5;28minput\u001b[39m, config)\n",
      "\u001b[36mFile \u001b[39m\u001b[32mr:\\gyaan_doc\\.venv\\Lib\\site-packages\\langgraph\\utils\\runnable.py:377\u001b[39m, in \u001b[36mRunnableCallable.invoke\u001b[39m\u001b[34m(self, input, config, **kwargs)\u001b[39m\n\u001b[32m    375\u001b[39m         run_manager.on_chain_end(ret)\n\u001b[32m    376\u001b[39m \u001b[38;5;28;01melse\u001b[39;00m:\n\u001b[32m--> \u001b[39m\u001b[32m377\u001b[39m     ret = \u001b[38;5;28;43mself\u001b[39;49m\u001b[43m.\u001b[49m\u001b[43mfunc\u001b[49m\u001b[43m(\u001b[49m\u001b[43m*\u001b[49m\u001b[43margs\u001b[49m\u001b[43m,\u001b[49m\u001b[43m \u001b[49m\u001b[43m*\u001b[49m\u001b[43m*\u001b[49m\u001b[43mkwargs\u001b[49m\u001b[43m)\u001b[49m\n\u001b[32m    378\u001b[39m \u001b[38;5;28;01mif\u001b[39;00m \u001b[38;5;28mself\u001b[39m.recurse \u001b[38;5;129;01mand\u001b[39;00m \u001b[38;5;28misinstance\u001b[39m(ret, Runnable):\n\u001b[32m    379\u001b[39m     \u001b[38;5;28;01mreturn\u001b[39;00m ret.invoke(\u001b[38;5;28minput\u001b[39m, config)\n",
      "\u001b[36mCell\u001b[39m\u001b[36m \u001b[39m\u001b[32mIn[47]\u001b[39m\u001b[32m, line 59\u001b[39m, in \u001b[36morchestrator\u001b[39m\u001b[34m(state)\u001b[39m\n\u001b[32m     53\u001b[39m pdfs = available_pdfs()\n\u001b[32m     54\u001b[39m response = chain.invoke({\n\u001b[32m     55\u001b[39m     \u001b[33m'\u001b[39m\u001b[33minput\u001b[39m\u001b[33m'\u001b[39m:last_message.content, \n\u001b[32m     56\u001b[39m     \u001b[33m'\u001b[39m\u001b[33mpdfs\u001b[39m\u001b[33m'\u001b[39m: pdfs\n\u001b[32m     57\u001b[39m                          })\n\u001b[32m---> \u001b[39m\u001b[32m59\u001b[39m \u001b[38;5;28mprint\u001b[39m(\u001b[33mf\u001b[39m\u001b[33m\"\u001b[39m\u001b[33mthis is how the state looks like: \u001b[39m\u001b[38;5;132;01m{\u001b[39;00mstate[\u001b[33m\"\u001b[39m\u001b[33mmessages\u001b[39m\u001b[33m\"\u001b[39m]\u001b[38;5;250m \u001b[39m+\u001b[38;5;250m \u001b[39m[AIMessage(content=\u001b[33mf\u001b[39m\u001b[33m\"\u001b[39m\u001b[38;5;132;01m{\u001b[39;00m\u001b[43mresponse\u001b[49m\u001b[43m[\u001b[49m\u001b[33;43m'\u001b[39;49m\u001b[33;43mmessages\u001b[39;49m\u001b[33;43m'\u001b[39;49m\u001b[43m]\u001b[49m.content\u001b[38;5;132;01m}\u001b[39;00m\u001b[33m\"\u001b[39m)]\u001b[38;5;132;01m}\u001b[39;00m\u001b[33m\"\u001b[39m)\n\u001b[32m     61\u001b[39m \u001b[38;5;28;01mreturn\u001b[39;00m {\u001b[33m\"\u001b[39m\u001b[33mmessages\u001b[39m\u001b[33m\"\u001b[39m: state[\u001b[33m\"\u001b[39m\u001b[33mmessages\u001b[39m\u001b[33m\"\u001b[39m] + [AIMessage(content=\u001b[33mf\u001b[39m\u001b[33m\"\u001b[39m\u001b[38;5;132;01m{\u001b[39;00mresponse[\u001b[33m'\u001b[39m\u001b[33mmessages\u001b[39m\u001b[33m'\u001b[39m].content\u001b[38;5;132;01m}\u001b[39;00m\u001b[33m\"\u001b[39m)]}\n",
      "\u001b[31mTypeError\u001b[39m: 'Parser' object is not subscriptable",
      "During task with name 'router' and id '786f9077-fd43-dd83-d343-0620fa73fc2f'"
     ]
    }
   ],
   "source": [
    "config = {\"configurable\": {\"thread_id\": \"1\"}}\n",
    "\n",
    "\n",
    "user_input = \"what is summary of the topic machine learning in the ai engineering pdf\"\n",
    "\n",
    "events = app.stream(\n",
    "    {\"messages\": [{\"role\": \"user\", \"content\": user_input}]},\n",
    "    config,\n",
    "    stream_mode=\"values\",\n",
    ")\n",
    "for event in events:\n",
    "    event[\"messages\"][-1].pretty_print()\n",
    "\n",
    "# while True:\n",
    "#     try:\n",
    "#         user_input = input(\"User: \")\n",
    "        \n",
    "#         if user_input.lower() in [\"exit\", \"quit\", \"stop\"]:\n",
    "#             break\n",
    "#         events = app.stream(\n",
    "#             {\"messages\": [{\"role\": \"user\", \"content\": user_input}]},\n",
    "#             config,\n",
    "#             stream_mode=\"values\",\n",
    "#         )\n",
    "#         for event in events:\n",
    "#             event[\"messages\"][-1].pretty_print()\n",
    "#     except Exception as e:\n",
    "#         print(f\"An error occurred: {e}\")\n",
    "#         break"
   ]
  },
  {
   "cell_type": "code",
   "execution_count": null,
   "id": "c41f7f7e",
   "metadata": {},
   "outputs": [],
   "source": []
  }
 ],
 "metadata": {
  "kernelspec": {
   "display_name": "gyaan-doc (3.13.3)",
   "language": "python",
   "name": "python3"
  },
  "language_info": {
   "codemirror_mode": {
    "name": "ipython",
    "version": 3
   },
   "file_extension": ".py",
   "mimetype": "text/x-python",
   "name": "python",
   "nbconvert_exporter": "python",
   "pygments_lexer": "ipython3",
   "version": "3.13.3"
  }
 },
 "nbformat": 4,
 "nbformat_minor": 5
}
