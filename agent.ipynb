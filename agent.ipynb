{
 "cells": [
  {
   "cell_type": "code",
   "execution_count": 10,
   "id": "955b6e5a",
   "metadata": {},
   "outputs": [
    {
     "data": {
      "text/plain": [
       "True"
      ]
     },
     "execution_count": 10,
     "metadata": {},
     "output_type": "execute_result"
    }
   ],
   "source": [
    "from langchain_google_genai import ChatGoogleGenerativeAI\n",
    "from langgraph.graph import StateGraph, START, END\n",
    "from langgraph.graph.message import add_messages\n",
    "from langchain_core.prompts import PromptTemplate\n",
    "from langchain_core.messages import SystemMessage,HumanMessage,AIMessage,ToolMessage, BaseMessage\n",
    "from utils import available_pdfs\n",
    "from langchain_groq import ChatGroq\n",
    "from langgraph.checkpoint.memory import MemorySaver\n",
    "from langchain_core.tools import BaseTool, tool\n",
    "from langgraph.prebuilt import ToolNode\n",
    "from typing import Annotated, Sequence, TypedDict\n",
    "from dotenv import load_dotenv\n",
    "\n",
    "load_dotenv()"
   ]
  },
  {
   "cell_type": "code",
   "execution_count": 2,
   "id": "54639c58",
   "metadata": {},
   "outputs": [],
   "source": [
    "class State(TypedDict):\n",
    "    messages: Annotated[Sequence[BaseMessage],add_messages]"
   ]
  },
  {
   "cell_type": "code",
   "execution_count": 3,
   "id": "bcfef95b",
   "metadata": {},
   "outputs": [],
   "source": [
    "@tool\n",
    "def select_pdf(pdfs_in_query: list) -> list:\n",
    "    \"\"\"Select PDFs from a list based on user query.\n",
    "    This tool helps find and select PDF documents that match the user's query \n",
    "    based on title, content description, or other metadata.\n",
    "\n",
    "    Args:\n",
    "        pdfs_in_query (list): List of PDF names mentioned in the user query\n",
    "\n",
    "    Returns:\n",
    "        list: List of selected PDF documents matching the query, with their metadata.\n",
    "            Returns empty list if no matches found.\n",
    "    \"\"\"\n",
    "    available_pdfs = available_pdfs()\n",
    "    print(f\"Available PDFs: {available_pdfs}\")\n",
    "    \n",
    "    if not pdfs_in_query:\n",
    "        return available_pdfs\n",
    "    \n",
    "    selected_pdfs = []\n",
    "\n",
    "    for pdf in pdfs_in_query:\n",
    "        if pdf.lower() in available_pdfs:\n",
    "            selected_pdfs.append(pdf)\n",
    "\n",
    "    return selected_pdfs"
   ]
  },
  {
   "cell_type": "code",
   "execution_count": 4,
   "id": "a1d2e198",
   "metadata": {},
   "outputs": [],
   "source": [
    "tools = [\n",
    "    select_pdf,\n",
    "]"
   ]
  },
  {
   "cell_type": "code",
   "execution_count": null,
   "id": "9e650277",
   "metadata": {},
   "outputs": [],
   "source": [
    "llm = ChatGroq.bind_tools(tools)"
   ]
  },
  {
   "cell_type": "code",
   "execution_count": 6,
   "id": "ce8f7f02",
   "metadata": {},
   "outputs": [],
   "source": [
    "from pydantic import BaseModel, Field\n",
    "from typing import Literal\n",
    "\n",
    "class Parser(BaseModel):\n",
    "    \"\"\"LLM will be allowed to output only 'summarization' or 'rag' based on the user query.\"\"\"\n",
    "    query: Literal[\"summarization\", \"rag\"]\n",
    "\n",
    "def orchestrator(state: State) -> State:\n",
    "    \"\"\"Router function to determine the next step in the state graph.\n",
    "    This function checks the current state and decides which tool or action to take next.\n",
    "\n",
    "    Args:\n",
    "        state (State): The current state of the graph.\n",
    "\n",
    "    Returns:\n",
    "        State: The updated state after processing the current step.\n",
    "    \"\"\"\n",
    "    user_message = next((msg for msg in reversed(state[\"messages\"]) if isinstance(msg, HumanMessage)), None)\n",
    "    \n",
    "    prompt = PromptTemplate(template = \"\"\"\n",
    "        You are a decision-making agent. Choose one of the following processes based on the user query:\n",
    "\n",
    "        <summarization> — Select this only if the user requests a summary of the entire PDF.\n",
    "\n",
    "        <rag> — Select this for any other type of query, including questions about specific sections, topic, paragraph or content from the PDF.\n",
    "\n",
    "        Respond with only <summarization> or <rag> based on the input:\n",
    "\n",
    "        Input: {user_input}\n",
    "        \"\"\",\n",
    "        input_variables=[\"user_input\"]\n",
    "    )\n",
    "    \n",
    "    structured_llm = llm.with_structured_output(Parser)\n",
    "    \n",
    "    chain = prompt | structured_llm\n",
    "\n",
    "    response = chain.invoke({\"user_input\": user_message.content})\n",
    "    \n",
    "    route_message = SystemMessage(content=f\"Query classified as: {response.query}\")\n",
    "    \n",
    "    return {\"messages\": state[\"messages\"] + [route_message]}"
   ]
  },
  {
   "cell_type": "code",
   "execution_count": 7,
   "id": "24ac1c7f",
   "metadata": {},
   "outputs": [],
   "source": [
    "memory = MemorySaver()\n",
    "\n",
    "graph = StateGraph(State)\n",
    "\n",
    "graph.add_node(\"router\",orchestrator)\n",
    "\n",
    "graph.add_edge(START, \"router\")\n",
    "graph.add_edge(\"router\", END)\n",
    "\n",
    "app = graph.compile(checkpointer=memory)"
   ]
  },
  {
   "cell_type": "code",
   "execution_count": 8,
   "id": "22b2748a",
   "metadata": {},
   "outputs": [
    {
     "data": {
      "image/png": "[encoded data removed]",
      "text/plain": [
       "<IPython.core.display.Image object>"
      ]
     },
     "metadata": {},
     "output_type": "display_data"
    }
   ],
   "source": [
    "from IPython.display import Image, display\n",
    "display(Image(app.get_graph().draw_mermaid_png()))"
   ]
  },
  {
   "cell_type": "code",
   "execution_count": 9,
   "id": "ea93f47f",
   "metadata": {},
   "outputs": [
    {
     "name": "stdout",
     "output_type": "stream",
     "text": [
      "================================\u001b[1m Human Message \u001b[0m=================================\n",
      "\n",
      "i want you summarize the pdf\n",
      "An error occurred: Invalid argument provided to Gemini: 400 Function calling is not enabled for models/gemma-3-27b-it\n"
     ]
    }
   ],
   "source": [
    "config = {\"configurable\": {\"thread_id\": \"1\"}}\n",
    "\n",
    "while True:\n",
    "    try:\n",
    "        user_input = input(\"User: \")\n",
    "        \n",
    "        if user_input.lower() in [\"exit\", \"quit\", \"stop\"]:\n",
    "            break\n",
    "        events = app.stream(\n",
    "            {\"messages\": [{\"role\": \"user\", \"content\": user_input}]},\n",
    "            config,\n",
    "            stream_mode=\"values\",\n",
    "        )\n",
    "        for event in events:\n",
    "            event[\"messages\"][-1].pretty_print()\n",
    "    except Exception as e:\n",
    "        print(f\"An error occurred: {e}\")\n",
    "        break"
   ]
  },
  {
   "cell_type": "code",
   "execution_count": null,
   "id": "6d0813ad",
   "metadata": {},
   "outputs": [],
   "source": []
  }
 ],
 "metadata": {
  "kernelspec": {
   "display_name": "gyaan-doc (3.13.3)",
   "language": "python",
   "name": "python3"
  },
  "language_info": {
   "codemirror_mode": {
    "name": "ipython",
    "version": 3
   },
   "file_extension": ".py",
   "mimetype": "text/x-python",
   "name": "python",
   "nbconvert_exporter": "python",
   "pygments_lexer": "ipython3",
   "version": "3.13.3"
  }
 },
 "nbformat": 4,
 "nbformat_minor": 5
}
